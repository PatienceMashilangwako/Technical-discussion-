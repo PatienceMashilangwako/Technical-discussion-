{
 "cells": [
  {
   "cell_type": "code",
   "execution_count": 11,
   "metadata": {},
   "outputs": [],
   "source": [
    "def increment(x):\n",
    "    return x + 1\n",
    "\n",
    "def test_increment():\n",
    "    assert increment(3) == 4\n",
    "    assert increment(5) == 6, \"Increment failed\"\n",
    "    \n",
    "    #Catch failures with try/except\n",
    "    try:\n",
    "        assert increment(-2) == -1 \n",
    "    except AssertionError:\n",
    "        print(\"Incrementing negative number failed\")\n",
    "        "
   ]
  },
  {
   "cell_type": "code",
   "execution_count": 10,
   "metadata": {},
   "outputs": [],
   "source": [
    "test_increment()"
   ]
  },
  {
   "cell_type": "code",
   "execution_count": 12,
   "metadata": {},
   "outputs": [],
   "source": [
    "def multiply (a,b):\n",
    "    return a * b\n",
    "\n",
    "#Test function for multiply\n",
    "def test_multipy():\n",
    "    try:\n",
    "        assert multiply(2,3) == 6, \"Test Failed: multiply(2,3) should return 6\"\n",
    "        assert multiply(1,5) == 5, \"Test Failed: multiply(1,5) should return 5\"\n",
    "        assert multiply(-1, 4) == -4, \"Test failed: multiply(-1, 4) should return -4\"\n",
    "        \n",
    "        \n",
    "    except AssertionError as e:\n",
    "        print(e)       "
   ]
  },
  {
   "cell_type": "code",
   "execution_count": 3,
   "metadata": {},
   "outputs": [
    {
     "ename": "NameError",
     "evalue": "name 'test_multiply' is not defined",
     "output_type": "error",
     "traceback": [
      "\u001b[0;31m---------------------------------------------------------------------------\u001b[0m",
      "\u001b[0;31mNameError\u001b[0m                                 Traceback (most recent call last)",
      "\u001b[0;32m<ipython-input-3-40d135254a97>\u001b[0m in \u001b[0;36m<module>\u001b[0;34m\u001b[0m\n\u001b[0;32m----> 1\u001b[0;31m \u001b[0mtest_multiply\u001b[0m\u001b[0;34m(\u001b[0m\u001b[0;36m2\u001b[0m\u001b[0;34m,\u001b[0m\u001b[0;36m5\u001b[0m\u001b[0;34m)\u001b[0m\u001b[0;34m\u001b[0m\u001b[0;34m\u001b[0m\u001b[0m\n\u001b[0m",
      "\u001b[0;31mNameError\u001b[0m: name 'test_multiply' is not defined"
     ]
    }
   ],
   "source": [
    "test_multiply()"
   ]
  },
  {
   "cell_type": "code",
   "execution_count": null,
   "metadata": {},
   "outputs": [],
   "source": [
    "def divide(a, b):\n",
    "    if b == 0:\n",
    "        raise ValueError(\"Division by zero is not allowed\")\n",
    "    return a / b\n",
    "\n",
    "# Test Function for divide\n",
    "def test_divide():\n",
    "    try:\n",
    "        # Test cases\n",
    "        assert divide(6, 3) == 2, \"Test failed: divide(6, 3) should return 2\"\n",
    "        assert divide(10, 2) == 5, \"Test failed: divide(10, 2) should return 5\"\n",
    "        \n",
    "        # This should raise a ValueError for division by zero\n",
    "        divide(5, 0)\n",
    "    \n",
    "    except AssertionError as e:\n",
    "        print(e)\n",
    "    \n",
    "    except ValueError as ve:\n",
    "        print(f\"Caught an error: {ve}\")"
   ]
  },
  {
   "cell_type": "code",
   "execution_count": null,
   "metadata": {},
   "outputs": [],
   "source": [
    "# Call test_divide to execute the test cases\n",
    "test_divide()"
   ]
  }
 ],
 "metadata": {
  "kernelspec": {
   "display_name": "Python 3",
   "language": "python",
   "name": "python3"
  },
  "language_info": {
   "codemirror_mode": {
    "name": "ipython",
    "version": 3
   },
   "file_extension": ".py",
   "mimetype": "text/x-python",
   "name": "python",
   "nbconvert_exporter": "python",
   "pygments_lexer": "ipython3",
   "version": "3.7.6"
  }
 },
 "nbformat": 4,
 "nbformat_minor": 4
}
